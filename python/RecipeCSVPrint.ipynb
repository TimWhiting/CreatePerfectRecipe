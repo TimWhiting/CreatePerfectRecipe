{
 "cells": [
  {
   "cell_type": "code",
   "execution_count": 2,
   "metadata": {},
   "outputs": [
    {
     "name": "stdout",
     "output_type": "stream",
     "text": [ ]
    }
   ],
  "source": [
    "from Recipe import *\n",
    "from RecipeDatabase import *\n",
   "from ValidIngredients import *\n",
    "first = True\n",
    "for ing in validIngredients:\n",
    "    if first:\n",
   "        print(ing,end=\"\")\n",
   "        first = False\n",
    "    else:\n",
    "        print(\",{}\".format(ing),end=\"\")\n",
    "print(\"\")\n",
    "\n",
    "recipes = RecipeDatabase()\n",
    "recipes.computeColumnMultipliers()\n",
   "recipes.normalizeColumns()\n",
    "\n",
    "for nRecipe in recipes.fullyNormalizedRecipes:\n",
    "    first = True\n",
    "    for ing in nRecipe:\n",
    "        if first:\n",
    "            print(ing,end=\"\")\n",
    "            first = False\n",
    "        else:\n",
    "            print(\",{}\".format(ing),end=\"\")\n",
    "    print(\"\")\n",
    "    print(\"\")\n",
    "\n",
    "# for recipe in recipes.getRecipes():\n",
    "#     first = True\n",
    "#     for ing in recipe.getInputVector():\n",
    "#         if first:\n",
    "#             print(ing,end=\"\")\n",
    "#             first = False\n",
    "#         else:\n",
    "#             print(\",{}\".format(ing),end=\"\")\n",
    "#     print(\"\")\n",
    "#     print(\"\")\n",
    "    \n"
   ]
  },
  {
   "cell_type": "code",
   "execution_count": null,
   "metadata": {},
   "outputs": [],
   "source": []
  }
 ],
 "metadata": {
  "kernelspec": {
   "display_name": "Python 3",
   "language": "python",
   "name": "python3"
  },
  "language_info": {
   "codemirror_mode": {
    "name": "ipython",
    "version": 3
   },
   "file_extension": ".py",
   "mimetype": "text/x-python",
   "name": "python",
   "nbconvert_exporter": "python",
   "pygments_lexer": "ipython3",
   "version": "3.6.4"
  }
 },
 "nbformat": 4,
 "nbformat_minor": 2
}
