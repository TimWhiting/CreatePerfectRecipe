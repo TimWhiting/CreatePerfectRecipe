{
 "cells": [
  {
   "cell_type": "code",
   "execution_count": 1,
   "metadata": {},
   "outputs": [
    {
     "name": "stdout",
     "output_type": "stream",
     "text": [
      "Ingredient amount doesn't match regex assorted colors of paste food coloring\n",
      "['food coloring']\n",
      "Ingredient doesn't match 24 lollipop sticks\n",
      "Ingredient doesn't match 1/3 cup toffee baking bits\n",
      "Ingredient doesn't match 3 tablespoons crushed candy canes\n",
      "Ingredient doesn't match 1 pinch cayenne pepper\n",
      "Ingredient doesn't match 1 pinch ground black pepper\n",
      "Ingredient doesn't match Cookies:\n",
      "Ingredient amount doesn't match regex Coating:\n",
      "['oat', 'granola']\n",
      "Ingredient doesn't match 2 tablespoons poppy seeds\n",
      "Ingredient doesn't match Topping:\n",
      "Ingredient doesn't match 2 cups cornflakes cereal, crushed\n",
      "Ingredient doesn't match 2 cups chow mein noodles\n",
      "Ingredient doesn't match 4 cups miniature marshmallows\n",
      "Ingredient doesn't match 3 tablespoons meringue powder\n",
      "Ingredient doesn't match 2 tablespoons cold coffee\n",
      "Ingredient doesn't match 1/2 teaspoon distilled white vinegar\n",
      "Ingredient doesn't match 14 ounces caramels\n",
      "Ingredient amount doesn't match regex assorted colors of paste food coloring\n",
      "['food coloring']\n",
      "Ingredient doesn't match 24 lollipop sticks\n",
      "Ingredient doesn't match 1 (11.5 ounce) jar dulce de leche\n",
      "Ingredient doesn't match 2 tablespoons instant coffee powder\n",
      "Ingredient doesn't match 1/4 teaspoon ground black pepper\n",
      "Ingredient doesn't match 1/8 teaspoon cayenne pepper\n",
      "Ingredient doesn't match Topping:\n",
      "Ingredient doesn't match Cookie:\n",
      "Ingredient doesn't match 24 silver dragees decorating candy\n",
      "Ingredient doesn't match 12 (2 inch) pieces long red vine licorice\n",
      "Ingredient doesn't match 2 cups cornflakes cereal, crushed\n",
      "Ingredient doesn't match Brownies:\n",
      "Ingredient doesn't match Frosting:\n",
      "Ingredient doesn't match 1 teaspoon anise seed, ground\n",
      "Ingredient doesn't match 1/2 teaspoon white vinegar\n",
      "Ingredient doesn't match Garnish:\n",
      "Ingredient amount doesn't match regex Cocoa powder (optional)\n",
      "['cocoa powder']\n",
      "Ingredient doesn't match 1/2 teaspoon ground black pepper\n",
      "Ingredient doesn't match 2 tablespoons chopped fresh rosemary\n",
      "Ingredient doesn't match 2 tablespoons custard powder\n",
      "Ingredient doesn't match 2 cups chow mein noodles\n",
      "Ingredient doesn't match 1 cup ground flaxseed\n",
      "Ingredient amount doesn't match regex Rolling Sugar:\n",
      "['sugar']\n",
      "Ingredient doesn't match Glaze (Optional):\n",
      "Ingredient doesn't match 6 cups cornflakes cereal\n",
      "Ingredient doesn't match 1/2 cup rum\n",
      "Ingredient doesn't match 1 (14 ounce) package individually wrapped caramels\n",
      "Ingredient doesn't match 1 tablespoon anise seed\n",
      "Ingredient doesn't match ReynoldsÂ® Parchment Paper\n",
      "Ingredient amount doesn't match regex Cinnamon Buttercream Frosting:\n",
      "['butter', 'margarine', 'shortening']\n",
      "Ingredient doesn't match Filling:\n",
      "Ingredient doesn't match 2 1/4 ounces colored candy sprinkles\n",
      "Ingredient doesn't match 1 cup lard\n",
      "Ingredient doesn't match 1 teaspoon cider vinegar\n",
      "Ingredient amount doesn't match regex food coloring\n",
      "['food coloring']\n",
      "Ingredient doesn't match 2 tablespoons finely chopped fresh lavender\n",
      "Ingredient doesn't match 1 tablespoon golden syrup\n",
      "Ingredient doesn't match Topping:\n",
      "Ingredient doesn't match 1/8 teaspoon cider vinegar\n",
      "Ingredient amount doesn't match regex assorted food coloring\n",
      "['food coloring']\n",
      "Ingredient doesn't match 1/2 cup warm coffee\n",
      "Ingredient doesn't match cooking spray\n",
      "Ingredient doesn't match 1 tablespoon rum\n"
     ]
    }
   ],
   "source": [
    "from Convert import *\n",
    "from RecipeDatabase import *\n",
    "db = RecipeDatabase()\n",
    "db.clearDatabase()\n",
    "ConvertAllRecipes()"
   ]
  },
  {
   "cell_type": "code",
   "execution_count": null,
   "metadata": {},
   "outputs": [],
   "source": []
  },
  {
   "cell_type": "code",
   "execution_count": 2,
   "metadata": {},
   "outputs": [
    {
     "name": "stdout",
     "output_type": "stream",
     "text": [
      "('1', None, '4', 'c')\n",
      "56.75\n",
      "['butter']\n"
     ]
    }
   ],
   "source": []
  }
 ],
 "metadata": {
  "kernelspec": {
   "display_name": "Python 3",
   "language": "python",
   "name": "python3"
  },
  "language_info": {
   "codemirror_mode": {
    "name": "ipython",
    "version": 3
   },
   "file_extension": ".py",
   "mimetype": "text/x-python",
   "name": "python",
   "nbconvert_exporter": "python",
   "pygments_lexer": "ipython3",
   "version": "3.6.4"
  }
 },
 "nbformat": 4,
 "nbformat_minor": 2
}
