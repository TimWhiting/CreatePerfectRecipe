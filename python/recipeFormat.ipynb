{
 "cells": [
  {
   "cell_type": "code",
   "execution_count": 2,
   "metadata": {},
   "outputs": [
    {
     "name": "stdout",
     "output_type": "stream",
     "text": [
      "Ingredient doesn't match 2 cups chow mein noodles\n",
      "Ingredient doesn't match 2 tablespoons whiskey\n",
      "Ingredient doesn't match 1 teaspoon cider vinegar\n",
      "Ingredient amount doesn't match regex assorted colors of paste food coloring\n",
      "['food coloring']\n",
      "Ingredient doesn't match 1 (15.5 ounce) can black beans, rinsed and drained\n",
      "Ingredient doesn't match 1 teaspoon instant coffee (optional)\n",
      "Ingredient doesn't match 1/2 cup warm coffee\n",
      "Ingredient amount doesn't match regex confectioners' sugar\n",
      "['powdered sugar', 'confectioner']\n",
      "Ingredient amount doesn't match regex splash of milk\n",
      "['milk']\n",
      "Ingredient doesn't match ReynoldsÂ® Parchment Paper\n",
      "Ingredient doesn't match 1 tablespoon brandy\n",
      "Ingredient doesn't match 1 tablespoon brandy\n",
      "Ingredient doesn't match 1/2 cup sunflower seeds\n",
      "Ingredient doesn't match 3 tablespoons meringue powder\n",
      "Ingredient doesn't match 2 cups chow mein noodles\n",
      "Ingredient doesn't match 1 tablespoon dark rum\n",
      "Ingredient amount doesn't match regex assorted food coloring\n",
      "['food coloring']\n",
      "Ingredient doesn't match 2 cups peeled and finely shredded yam\n",
      "Ingredient doesn't match 2 tablespoons custard powder\n",
      "Ingredient doesn't match 1 tablespoon distilled white vinegar\n",
      "Ingredient doesn't match 1/2 teaspoon white vinegar\n",
      "Ingredient amount doesn't match regex Cocoa powder (optional)\n",
      "['cocoa powder']\n",
      "Ingredient doesn't match 1/3 cup brandy\n",
      "Ingredient doesn't match 1 tablespoon bourbon\n",
      "Ingredient doesn't match Icing\n",
      "Ingredient doesn't match 1 tablespoon cocoa\n",
      "Ingredient doesn't match 2 teaspoons lime juice\n",
      "Ingredient doesn't match 2 teaspoons lime zest\n",
      "Ingredient doesn't match 2 tablespoons lime juice\n",
      "Ingredient doesn't match 1/2 cup rum\n",
      "Ingredient doesn't match 2 1/4 cups pitted prunes\n",
      "Ingredient doesn't match 2 (8 ounce) cans refrigerated crescent roll dough\n",
      "Ingredient doesn't match 1/2 teaspoon ground mace\n",
      "Ingredient doesn't match 1 tablespoon rum\n",
      "Ingredient doesn't match 1/2 cup rum\n",
      "Ingredient amount doesn't match regex food coloring\n",
      "['food coloring']\n",
      "Ingredient doesn't match 2 tablespoons instant coffee powder\n",
      "Ingredient doesn't match 1/2 cup sweet Marsala wine\n",
      "Ingredient doesn't match 1 tablespoon distilled white vinegar\n",
      "Ingredient doesn't match 1 (32 ounce) container ricotta cheese\n",
      "Ingredient doesn't match 1/2 cup rum\n",
      "Ingredient doesn't match 3 tablespoons meringue powder\n",
      "Ingredient doesn't match cooking spray\n",
      "Ingredient doesn't match 16 ounces ricotta cheese\n",
      "Ingredient amount doesn't match regex assorted colors of paste food coloring\n",
      "['food coloring']\n",
      "Ingredient doesn't match 2 teaspoons instant coffee granules\n",
      "Ingredient doesn't match 2 ripe persimmons, pureed\n",
      "Ingredient doesn't match 1/8 teaspoon cider vinegar\n",
      "Ingredient doesn't match 1/2 teaspoon distilled white vinegar\n"
     ]
    }
   ],
   "source": [
    "from Convert import *\n",
    "from RecipeDatabase import *\n",
    "db = RecipeDatabase()\n",
    "db.clearDatabase()\n",
    "ConvertAllRecipes()"
   ]
  }
 ],
 "metadata": {
  "kernelspec": {
   "display_name": "Python 3",
   "language": "python",
   "name": "python3"
  },
  "language_info": {
   "codemirror_mode": {
    "name": "ipython",
    "version": 3
   },
   "file_extension": ".py",
   "mimetype": "text/x-python",
   "name": "python",
   "nbconvert_exporter": "python",
   "pygments_lexer": "ipython3",
   "version": "3.6.4"
  }
 },
 "nbformat": 4,
 "nbformat_minor": 2
}
