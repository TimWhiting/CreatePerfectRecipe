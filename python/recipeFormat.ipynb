{
 "cells": [
  {
   "cell_type": "code",
   "execution_count": 1,
   "metadata": {},
   "outputs": [
    {
     "name": "stdout",
     "output_type": "stream",
     "text": [
      "[{\"ingredients\": \"1/4 cup butter or margarine, softened\"}, {\"ingredients\": \"2/3 cup brown sugar\"}, {\"ingredients\": \"1 egg\"}, {\"ingredients\": \"1 cup applesauce\"}, {\"ingredients\": \"1 cup all-purpose flour\"}, {\"ingredients\": \"1 teaspoon baking soda\"}, {\"ingredients\": \"1/2 teaspoon salt\"}, {\"ingredients\": \"1 teaspoon pumpkin pie spice\"}, {\"ingredients\": \"1 1/2 cups confectioners' sugar\"}, {\"ingredients\": \"3 tablespoons margarine, melted\"}, {\"ingredients\": \"1 tablespoon milk\"}, {\"ingredients\": \"1 teaspoon vanilla extract\"}]\n",
      "{'ingredients': '1/4 cup butter or margarine, softened'}\n"
     ]
    }
   ],
   "source": [
    "from Ingredient import *\n",
    "from RecipeRaw import *\n",
    "from RecipeDatabase import *\n",
    "from Convert import *\n",
    "\n",
    "raw = RawDatabase()\n",
    "recipes = raw.getRecipes()\n",
    "recipe = RecipeRawFromJSON(recipes[0])\n",
    "print(recipe.ingredients[0])\n"
   ]
  },
  {
   "cell_type": "code",
   "execution_count": 2,
   "metadata": {},
   "outputs": [
    {
     "name": "stdout",
     "output_type": "stream",
     "text": [
      "('1', None, '4', 'c')\n",
      "56.75\n",
      "['butter']\n"
     ]
    }
   ],
   "source": [
    "ing = getIngredientFromString(recipe.ingredients[0]['ingredients'])"
   ]
  }
 ],
 "metadata": {
  "kernelspec": {
   "display_name": "Python 3",
   "language": "python",
   "name": "python3"
  },
  "language_info": {
   "codemirror_mode": {
    "name": "ipython",
    "version": 3
   },
   "file_extension": ".py",
   "mimetype": "text/x-python",
   "name": "python",
   "nbconvert_exporter": "python",
   "pygments_lexer": "ipython3",
   "version": "3.6.4"
  }
 },
 "nbformat": 4,
 "nbformat_minor": 2
}
