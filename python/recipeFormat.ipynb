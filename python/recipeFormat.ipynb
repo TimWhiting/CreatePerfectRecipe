{
 "cells": [
  {
   "cell_type": "code",
   "execution_count": 1,
   "metadata": {},
   "outputs": [
    {
     "name": "stdout",
     "output_type": "stream",
     "text": [
      "Ingredient amount doesn't match regex assorted colors of paste food coloring\n",
      "['food coloring']\n",
      "Ingredient doesn't match 1/3 cup toffee baking bits\n",
      "Ingredient doesn't match 2 tablespoons poppy seeds\n",
      "Ingredient doesn't match 2 cups chow mein noodles\n",
      "Ingredient doesn't match 3 tablespoons meringue powder\n",
      "Ingredient doesn't match 2 tablespoons cold coffee\n",
      "Ingredient doesn't match 1/2 teaspoon distilled white vinegar\n",
      "Ingredient amount doesn't match regex assorted colors of paste food coloring\n",
      "['food coloring']\n",
      "Ingredient doesn't match 2 tablespoons instant coffee powder\n",
      "Ingredient doesn't match 1/2 teaspoon white vinegar\n",
      "Ingredient amount doesn't match regex Cocoa powder (optional)\n",
      "['cocoa powder']\n",
      "Ingredient doesn't match 2 tablespoons custard powder\n",
      "Ingredient doesn't match 2 cups chow mein noodles\n",
      "Ingredient doesn't match 1/2 cup rum\n",
      "Ingredient doesn't match ReynoldsÂ® Parchment Paper\n",
      "Ingredient doesn't match 1 teaspoon cider vinegar\n",
      "Ingredient amount doesn't match regex food coloring\n",
      "['food coloring']\n",
      "Ingredient doesn't match 2 tablespoons finely chopped fresh lavender\n",
      "Ingredient doesn't match 1/8 teaspoon cider vinegar\n",
      "Ingredient amount doesn't match regex assorted food coloring\n",
      "['food coloring']\n",
      "Ingredient doesn't match 1/2 cup warm coffee\n",
      "Ingredient doesn't match cooking spray\n",
      "Ingredient doesn't match 1 tablespoon rum\n"
     ]
    }
   ],
   "source": [
    "from Convert import *\n",
    "from RecipeDatabase import *\n",
    "db = RecipeDatabase()\n",
    "db.clearDatabase()\n",
    "ConvertAllRecipes()"
   ]
  },
  {
   "cell_type": "code",
   "execution_count": null,
   "metadata": {},
   "outputs": [],
   "source": []
  },
  {
   "cell_type": "code",
   "execution_count": 2,
   "metadata": {},
   "outputs": [
    {
     "name": "stdout",
     "output_type": "stream",
     "text": [
      "('1', None, '4', 'c')\n",
      "56.75\n",
      "['butter']\n"
     ]
    }
   ],
   "source": []
  }
 ],
 "metadata": {
  "kernelspec": {
   "display_name": "Python 2",
   "language": "python",
   "name": "python2"
  },
  "language_info": {
   "codemirror_mode": {
    "name": "ipython",
    "version": 2
   },
   "file_extension": ".py",
   "mimetype": "text/x-python",
   "name": "python",
   "nbconvert_exporter": "python",
   "pygments_lexer": "ipython2",
   "version": "2.7.12"
  }
 },
 "nbformat": 4,
 "nbformat_minor": 2
}
