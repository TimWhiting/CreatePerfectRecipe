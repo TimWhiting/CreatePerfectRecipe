{
 "cells": [
  {
   "cell_type": "code",
   "execution_count": 1,
   "metadata": {},
   "outputs": [],
   "source": [
    "from RecipeDatabase import *\n",
    "databaseHandler = RawDatabase()\n",
    "databaseURI = '../data/raw/allrecipes.csv'"
   ]
  },
  {
   "cell_type": "code",
   "execution_count": 2,
   "metadata": {},
   "outputs": [
    {
     "name": "stdout",
     "output_type": "stream",
     "text": [
      "ï»¿web-scraper-order,web-scraper-start-url,cookies,cookies-href,category,category-href,recipe_link,recipe_link-href,ingredients,prep_time,cook_time,total_time,instructions,nutrition_facts,name,num_reviews,category_name,5star,4star,3star,2star,1star\n",
      "\n"
     ]
    }
   ],
   "source": [
    "databaseHandler.loadToDatabase(databaseURI)"
   ]
  },
  {
   "cell_type": "code",
   "execution_count": 2,
   "metadata": {},
   "outputs": [],
   "source": [
    "databaseHandler.clearDatabase()"
   ]
  }
 ],
 "metadata": {
  "kernelspec": {
   "display_name": "Python 3",
   "language": "python",
   "name": "python3"
  },
  "language_info": {
   "codemirror_mode": {
    "name": "ipython",
    "version": 3
   },
   "file_extension": ".py",
   "mimetype": "text/x-python",
   "name": "python",
   "nbconvert_exporter": "python",
   "pygments_lexer": "ipython3",
   "version": "3.6.4"
  }
 },
 "nbformat": 4,
 "nbformat_minor": 2
}
