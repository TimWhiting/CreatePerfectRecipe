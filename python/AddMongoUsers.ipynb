{
 "cells": [
  {
   "cell_type": "markdown",
   "metadata": {},
   "source": [
    "use admin\n",
    "db.createUser(\n",
    "  {\n",
    "    user: \"TimWhiting\",\n",
    "    pwd: \"JJJJ1234@@#$()++\",\n",
    "    roles: [ \n",
    "        { role: \"userAdminAnyDatabase\", db: \"admin\" }, { role: \"readWrite\", db: \"recipes\" }\n",
    "    ]\n",
    "  }\n",
    ")\n",
    "db.createRole(\n",
    "   { role: \"changeOwnPasswordCustomDataRole\",\n",
    "     privileges: [\n",
    "        {\n",
    "          resource: { db: \"\", collection: \"\"},\n",
    "          actions: [ \"changeOwnPassword\", \"changeOwnCustomData\" ]\n",
    "        }\n",
    "     ],\n",
    "     roles: []\n",
    "   }\n",
    ")\n",
    "use recipes\n",
    "db.createUser(\n",
    "  {\n",
    "    user: \"Jennings\",\n",
    "    pwd: \"#cookies1234567890!\",\n",
    "    roles: [\n",
    "       { role: \"readWrite\", db: \"recipes\" }, { role:\"changeOwnPasswordCustomDataRole\", db:\"admin\" }\n",
    "    ]\n",
    "  }\n",
    ")"
   ]
  },
  {
   "cell_type": "code",
   "execution_count": null,
   "metadata": {},
   "outputs": [],
   "source": []
  }
 ],
 "metadata": {
  "kernelspec": {
   "display_name": "Python 2",
   "language": "python",
   "name": "python2"
  },
  "language_info": {
   "codemirror_mode": {
    "name": "ipython",
    "version": 2
   },
   "file_extension": ".py",
   "mimetype": "text/x-python",
   "name": "python",
   "nbconvert_exporter": "python",
   "pygments_lexer": "ipython2",
   "version": "2.7.12"
  }
 },
 "nbformat": 4,
 "nbformat_minor": 2
}
